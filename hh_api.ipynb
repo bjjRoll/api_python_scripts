{
 "cells": [
  {
   "cell_type": "code",
   "execution_count": 175,
   "outputs": [],
   "source": [
    "import requests\n",
    "import pandas as pd\n",
    "\n",
    "def extract_job_data() -> pd.DataFrame:\n",
    "    url = 'https://api.hh.ru/vacancies'\n",
    "    params = {\n",
    "        'area': [1, 2, 53, 66],              # Москва, Санкт-Петербург, Краснодар, Нижний Новгород\n",
    "        'ored_clusters': True,\n",
    "        'text': 'data',\n",
    "        'professional_role': [96, 156, 165], # Разработчик (программист), Data Scientist, Data Analyst\n",
    "        'search_period': 1,\n",
    "        'per_page': 20\n",
    "    }\n",
    "\n",
    "    with requests.Session() as session:\n",
    "        req = session.get(url, params=params)\n",
    "        req.raise_for_status()\n",
    "        raw_data = req.json()\n",
    "\n",
    "        items = raw_data['items']\n",
    "        for page in range(1, raw_data['pages']):\n",
    "            params['page'] = page\n",
    "            req = session.get(url, params=params)\n",
    "            req.raise_for_status()\n",
    "            data = req.json()\n",
    "            items.extend(data['items'])\n",
    "\n",
    "        df = pd.json_normalize(items)\n",
    "\n",
    "        # Фильтрация по профессии\n",
    "        professions = ['Инженер данных', 'Инженер по данным', 'Дата инженер', 'Data Engineer', 'Разработчик ETL', 'Разработчик DWH', 'Разработчик хранилищ данных']\n",
    "        df = df[df['name'].str.contains('|'.join(professions), case=False)]\n",
    "\n",
    "        return df"
   ],
   "metadata": {
    "collapsed": false
   }
  },
  {
   "cell_type": "code",
   "execution_count": null,
   "outputs": [],
   "source": [
    "def transform_job_data() -> pd.DataFrame:\n",
    "    # Используем метод `extract_job_data()` только один раз\n",
    "    df = extract_job_data()\n",
    "\n",
    "    # Выбираем только необходимые столбцы с помощью списка\n",
    "    columns_to_select = [\n",
    "        'id', 'name', 'published_at', 'created_at', 'alternate_url', 'accept_temporary',\n",
    "        'area.id', 'area.name', 'salary.from', 'salary.to', 'salary.currency', 'salary.gross',\n",
    "        'employer.id', 'employer.name', 'employer.alternate_url', 'employer.accredited_it_employer',\n",
    "        'employer.trusted', 'snippet.requirement', 'snippet.responsibility', 'schedule.name',\n",
    "        'experience.name', 'employment.name', 'department.name', 'address.raw'\n",
    "    ]\n",
    "    df_filtered = df[columns_to_select]\n",
    "\n",
    "    # Заменяем точки на подчеркивания в названиях столбцов\n",
    "    df_filtered.columns = df_filtered.columns.str.replace('.', '_', regex=False)\n",
    "\n",
    "    return df_filtered\n",
    "\n",
    "transform_job_data()"
   ],
   "metadata": {
    "collapsed": false,
    "pycharm": {
     "is_executing": true
    }
   }
  },
  {
   "cell_type": "code",
   "execution_count": null,
   "outputs": [],
   "source": [],
   "metadata": {
    "collapsed": false
   }
  }
 ],
 "metadata": {
  "kernelspec": {
   "display_name": "Python 3",
   "language": "python",
   "name": "python3"
  },
  "language_info": {
   "codemirror_mode": {
    "name": "ipython",
    "version": 2
   },
   "file_extension": ".py",
   "mimetype": "text/x-python",
   "name": "python",
   "nbconvert_exporter": "python",
   "pygments_lexer": "ipython2",
   "version": "2.7.6"
  }
 },
 "nbformat": 4,
 "nbformat_minor": 0
}
