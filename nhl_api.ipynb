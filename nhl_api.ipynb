{
 "cells": [
  {
   "cell_type": "code",
   "execution_count": 8,
   "outputs": [],
   "source": [
    "import requests\n",
    "import pandas as pd\n",
    "from requests.exceptions import RequestException\n",
    "from typing import List\n",
    "\n",
    "def get_team_abbrs_list() -> list:\n",
    "    url = 'https://api.nhle.com/stats/rest/en/team'\n",
    "    response = requests.get(url)\n",
    "    response.raise_for_status()\n",
    "    json_data = response.json()\n",
    "    return sorted([team['triCode'] for team in json_data['data']])\n"
   ],
   "metadata": {
    "collapsed": false
   }
  },
  {
   "cell_type": "code",
   "execution_count": 9,
   "outputs": [],
   "source": [
    "def get_season_id_list() -> list:\n",
    "    url = 'https://api-web.nhle.com/v1/season'\n",
    "    response = requests.get(url)\n",
    "    response.raise_for_status()\n",
    "    json_data = response.json()\n",
    "    return [season for season in json_data if season >= 20202011]\n"
   ],
   "metadata": {
    "collapsed": false
   }
  },
  {
   "cell_type": "code",
   "execution_count": 10,
   "outputs": [],
   "source": [
    "def get_one_season_info(season_id) -> pd.DataFrame:\n",
    "    url = f'https://api.nhle.com/stats/rest/en/team/summary?sort=shotsForPerGame&cayenneExp=seasonId={season_id}%20and%20gameTypeId=2'\n",
    "    try:\n",
    "        response = requests.get(url)\n",
    "        response.raise_for_status()\n",
    "        data = response.json().get('data', [])\n",
    "        return pd.DataFrame(data)\n",
    "    except RequestException as e:\n",
    "        print(f'Ошибка при выполнении запроса: {e}')\n",
    "        return pd.DataFrame()\n",
    "\n",
    "\n",
    "def get_many_season_info() -> pd.DataFrame:\n",
    "    season_ids = get_season_id_list()\n",
    "    df_list = [get_one_season_info(season_id) for season_id in season_ids]\n",
    "    return pd.concat(df_list, ignore_index=True)\n"
   ],
   "metadata": {
    "collapsed": false
   }
  },
  {
   "cell_type": "code",
   "execution_count": 11,
   "outputs": [],
   "source": [
    "def get_teams() -> pd.DataFrame:\n",
    "    url = 'https://api.nhle.com/stats/rest/en/team'\n",
    "    try:\n",
    "        response = requests.get(url)\n",
    "        response.raise_for_status()\n",
    "        json_data = response.json()\n",
    "    except requests.RequestException as e:\n",
    "        print(f'Error fetching data: {e}')\n",
    "        return pd.DataFrame()\n",
    "\n",
    "    data = pd.json_normalize(json_data['data'])\n",
    "    columns = ['id', 'franchiseId', 'fullName', 'leagueId', 'rawTricode', 'triCode']\n",
    "    return data[columns].sort_values(by='id').reset_index(drop=True)\n"
   ],
   "metadata": {
    "collapsed": false
   }
  },
  {
   "cell_type": "code",
   "execution_count": 12,
   "outputs": [],
   "source": [
    "def get_player_stats():\n",
    "    url = f'https://api-web.nhle.com/v1/club-stats/TOR/20232024/2'\n",
    "    response = requests.get(url)\n",
    "    response.raise_for_status()\n",
    "    json_data = response.json()\n",
    "    data = pd.json_normalize(json_data['skaters'])\n",
    "    return data"
   ],
   "metadata": {
    "collapsed": false
   }
  },
  {
   "cell_type": "code",
   "execution_count": null,
   "outputs": [],
   "source": [
    "def fetch_team_roster(team: str) -> List[dict]:\n",
    "    url = f'https://api-web.nhle.com/v1/roster/{team}/20232024'\n",
    "    try:\n",
    "        response = requests.get(url)\n",
    "        response.raise_for_status()\n",
    "        json_data = response.json()\n",
    "        players = sum((json_data[key] for key in ['forwards', 'defensemen', 'goalies']), [])\n",
    "        for player in players:\n",
    "            player['team'] = team\n",
    "        return players\n",
    "    except RequestException:\n",
    "        return []\n",
    "\n",
    "def get_roster(teams: List[str]) -> pd.DataFrame:\n",
    "    all_players = [player for team in teams for player in fetch_team_roster(team)]\n",
    "\n",
    "    if not all_players:\n",
    "        return pd.DataFrame()  # Возвращаем пустой DataFrame, если нет данных\n",
    "\n",
    "    data = pd.json_normalize(all_players)\n",
    "    columns = [\n",
    "        'id', 'headshot', 'sweaterNumber', 'positionCode',\n",
    "        'shootsCatches', 'heightInCentimeters', 'weightInKilograms',\n",
    "        'birthDate', 'birthCountry', 'firstName.default', 'lastName.default',\n",
    "        'birthCity.default', 'birthStateProvince.default', 'team'\n",
    "    ]\n",
    "\n",
    "    return data[columns].sort_values(by='id').reset_index(drop=True)\n",
    "\n",
    "\n",
    "ts = get_roster(get_team_abbrs_list())\n",
    "ts"
   ],
   "metadata": {
    "collapsed": false,
    "pycharm": {
     "is_executing": true
    }
   }
  }
 ],
 "metadata": {
  "kernelspec": {
   "display_name": "Python 3",
   "language": "python",
   "name": "python3"
  },
  "language_info": {
   "codemirror_mode": {
    "name": "ipython",
    "version": 2
   },
   "file_extension": ".py",
   "mimetype": "text/x-python",
   "name": "python",
   "nbconvert_exporter": "python",
   "pygments_lexer": "ipython2",
   "version": "2.7.6"
  }
 },
 "nbformat": 4,
 "nbformat_minor": 0
}
