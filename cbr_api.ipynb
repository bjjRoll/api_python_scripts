{
 "cells": [
  {
   "cell_type": "code",
   "execution_count": 10,
   "metadata": {
    "collapsed": true
   },
   "outputs": [],
   "source": [
    "import requests\n",
    "from datetime import datetime, timedelta\n",
    "import pandas as pd\n",
    "from sqlalchemy import create_engine\n",
    "import os\n",
    "\n",
    "def get_exchange_usd_rates() -> pd.DataFrame:\n",
    "    today = datetime.now().date()\n",
    "    week_ago = today - timedelta(days=7)\n",
    "\n",
    "    exchange_rates = []\n",
    "\n",
    "    for date in pd.date_range(week_ago, today):\n",
    "        url = f'https://www.cbr-xml-daily.ru/archive/{date:%Y/%m/%d}/daily_json.js'\n",
    "        res = requests.get(url)\n",
    "        if res.status_code == 200:\n",
    "            data = res.json()\n",
    "            usd_data = data['Valute'].get('USD')\n",
    "            if usd_data:\n",
    "                exchange_rates.append({\n",
    "                    'date': date,\n",
    "                    'rate': usd_data['Value'],\n",
    "                    'nominal': usd_data['Nominal'],\n",
    "                    'desc': 'Доллар США'\n",
    "                })\n",
    "\n",
    "    return pd.DataFrame(exchange_rates)"
   ]
  },
  {
   "cell_type": "code",
   "execution_count": 11,
   "metadata": {
    "collapsed": false
   },
   "outputs": [],
   "source": [
    "def load_rates_into_db(df: pd.DataFrame):\n",
    "    # Получаем конфигурацию для подключения к БД из переменных окружения\n",
    "    pg_host = os.getenv('PG_HOST', 'localhost')\n",
    "    pg_port = os.getenv('PG_PORT', '5432')\n",
    "    pg_user = os.getenv('PG_USER', 'postgres')\n",
    "    pg_password = os.getenv('PG_PASSWORD', 'root')\n",
    "    pg_database = os.getenv('PG_DATABASE', 'dwh_dbt')\n",
    "\n",
    "    try:\n",
    "        # Создаем соединение с базой данных\n",
    "        with create_engine(f'postgresql://{pg_user}:{pg_password}@{pg_host}:{pg_port}/{pg_database}').connect() as conn:\n",
    "            # Сохраняем датафрейм в базу данных\n",
    "            df.to_sql('usd_rates', conn, if_exists='replace', index=False)\n",
    "            print(\"Данные успешно загружены в базу данных.\")\n",
    "    except Exception as e:\n",
    "        print(f\"Произошла ошибка при загрузке данных в базу данных: {e}\")\n",
    "\n",
    "\n",
    "load_rates_into_db(get_exchange_usd_rates())\n"
   ]
  }
 ],
 "metadata": {
  "kernelspec": {
   "display_name": "Python 3",
   "language": "python",
   "name": "python3"
  },
  "language_info": {
   "codemirror_mode": {
    "name": "ipython",
    "version": 2
   },
   "file_extension": ".py",
   "mimetype": "text/x-python",
   "name": "python",
   "nbconvert_exporter": "python",
   "pygments_lexer": "ipython2",
   "version": "2.7.6"
  }
 },
 "nbformat": 4,
 "nbformat_minor": 0
}
