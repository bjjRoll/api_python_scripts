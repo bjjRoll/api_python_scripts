{
 "cells": [
  {
   "cell_type": "code",
   "execution_count": 1,
   "metadata": {
    "collapsed": false
   },
   "outputs": [],
   "source": [
    "import requests\n",
    "import pandas as pd\n",
    "from datetime import datetime, timedelta\n",
    "from sqlalchemy import create_engine, inspect\n",
    "import os\n",
    "\n",
    "def get_bitcoin_data():\n",
    "    start_date = '2023-12-31'\n",
    "    end_date = datetime.now().date() - timedelta(days=1)\n",
    "    url = f'https://web-api.coinmarketcap.com/v1/cryptocurrency/ohlcv/historical?id=1&convert_id=2781&time_start={start_date}&time_end={end_date}'\n",
    "    file_path = 'C:/Users/Xande/Documents/extract_btc/bitcoin_data.csv'\n",
    "\n",
    "    response = requests.get(url)\n",
    "    if response.status_code != 200:\n",
    "        raise Exception(f'Failed to fetch data: {response.status_code}')\n",
    "\n",
    "    json_data = response.json()\n",
    "    raw_data = json_data.get('data', {}).get('quotes', [])\n",
    "\n",
    "    btc_data = [{key: quote['quote']['2781'][key] for key in quote['quote']['2781']} for quote in raw_data] # 2781 - код USD\n",
    "\n",
    "    pd.DataFrame(btc_data).to_csv(file_path, sep=';', index= False)\n"
   ]
  },
  {
   "cell_type": "code",
   "execution_count": null,
   "metadata": {
    "collapsed": false
   },
   "outputs": [],
   "source": [
    "def load_btc_data_into_db():\n",
    "    file_path = 'C:/Users/Xande/Documents/extract_btc/bitcoin_data.csv'\n",
    "\n",
    "    # Получаем конфигурацию для подключения к БД из переменных окружения (если переменная не определена, используем значения по умолчанию)\n",
    "    pg_host = os.getenv('PG_HOST', 'localhost')\n",
    "    pg_port = os.getenv('PG_PORT', '5432')\n",
    "    pg_user = os.getenv('PG_USER', 'postgres')\n",
    "    pg_password = os.getenv('PG_PASSWORD', 'root')\n",
    "    pg_database = os.getenv('PG_DATABASE', 'dwh_dbt')\n",
    "\n",
    "    try:\n",
    "        engine = create_engine(f'postgresql://{pg_user}:{pg_password}@{pg_host}:{pg_port}/{pg_database}')\n",
    "        inspector = inspect(engine)\n",
    "        if 'raw' not in inspector.get_schema_names():\n",
    "            engine.execute('CREATE SCHEMA raw')\n",
    "\n",
    "        df = pd.read_csv(file_path, sep=';')\n",
    "        with engine.connect() as conn:\n",
    "            df.to_sql('btc_data', conn, schema='raw', if_exists='replace', index=False)\n",
    "        print('Данные успешно загружены в базу данных.')\n",
    "    except Exception as e:\n",
    "        raise RuntimeError(f'Произошла ошибка при загрузке данных в базу данных: {e}')\n",
    "\n",
    "\n",
    "get_bitcoin_data()\n",
    "load_btc_data_into_db()"
   ]
  }
 ],
 "metadata": {
  "kernelspec": {
   "display_name": "Python 3",
   "language": "python",
   "name": "python3"
  },
  "language_info": {
   "codemirror_mode": {
    "name": "ipython",
    "version": 2
   },
   "file_extension": ".py",
   "mimetype": "text/x-python",
   "name": "python",
   "nbconvert_exporter": "python",
   "pygments_lexer": "ipython2",
   "version": "2.7.6"
  }
 },
 "nbformat": 4,
 "nbformat_minor": 0
}
